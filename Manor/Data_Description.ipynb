{
  "nbformat": 4,
  "nbformat_minor": 0,
  "metadata": {
    "colab": {
      "provenance": [],
      "authorship_tag": "ABX9TyOnGmucxQmCTUUbVD8Y4G9T",
      "include_colab_link": true
    },
    "kernelspec": {
      "name": "python3",
      "display_name": "Python 3"
    },
    "language_info": {
      "name": "python"
    }
  },
  "cells": [
    {
      "cell_type": "markdown",
      "metadata": {
        "id": "view-in-github",
        "colab_type": "text"
      },
      "source": [
        "<a href=\"https://colab.research.google.com/github/ortall0201/Spotify--PopularityClustersNN/blob/main/Manor/Data_Description.ipynb\" target=\"_parent\"><img src=\"https://colab.research.google.com/assets/colab-badge.svg\" alt=\"Open In Colab\"/></a>"
      ]
    },
    {
      "cell_type": "markdown",
      "source": [
        "\n",
        "# **Columns Description:**\n",
        "\n",
        "**track_id:** The unique Spotify ID for each track.\n",
        "\n",
        "**artists:** Names of the artists who performed the track, separated by ';'.\n",
        "\n",
        "**album_name:** The name of the album in which the track appears.\n",
        "\n",
        "**track_name:** The title of the track.\n",
        "\n",
        "**popularity:** A value between 0 and 100, indicating the track's popularity based on recent plays.\n",
        "\n",
        "**duration_ms:** The length of the track in milliseconds.\n",
        "\n",
        "**explicit:** Boolean indicating whether the track contains explicit content.\n",
        "\n",
        "**danceability:** Describes how suitable a track is for dancing (0.0 = least danceable, 1.0 = most danceable).\n",
        "\n",
        "**energy:** Represents the intensity and activity of a track (0.0 = low energy, 1.0 = high energy).\n",
        "\n",
        "**key:** The musical key of the track mapped using standard Pitch Class notation.\n",
        "\n",
        "**loudness:** Overall loudness of the track in decibels (dB).\n",
        "\n",
        "**mode:** Indicates the modality (major or minor) of the track.\n",
        "\n",
        "**speechiness:** Detects the presence of spoken words in the track.\n",
        "\n",
        "**acousticness:** Confidence measure of whether the track is acoustic (0.0 = not acoustic, 1.0 = highly acoustic).\n",
        "\n",
        "**instrumentalness:** Predicts whether a track contains vocals (0.0 = contains vocals, 1.0 = instrumental).\n",
        "\n",
        "**liveness:** Detects the presence of an audience in the recording (0.0 = studio recording, 1.0 = live performance).\n",
        "\n",
        "**valence:** Measures the musical positiveness conveyed by a track (0.0 = negative, 1.0 = positive).\n",
        "\n",
        "**tempo:** Estimated tempo of the track in beats per minute (BPM).\n",
        "\n",
        "**time_signature:** Estimated time signature of the track (3 to 7).\n",
        "\n",
        "Each track is associated with a specific genre labeled under **track_genre**.\n",
        "\n",
        "**energy_danceability_interaction**\n",
        "\n",
        "**speechiness_acousticness_interaction**\n",
        "\n",
        "**log_duration_ms**\n",
        "\n",
        "**valence_binned**\n",
        "\n",
        "\n"
      ],
      "metadata": {
        "id": "wkB8yyEWWbEP"
      }
    },
    {
      "cell_type": "code",
      "execution_count": null,
      "metadata": {
        "id": "eCnhDn5RWJ_M"
      },
      "outputs": [],
      "source": []
    }
  ]
}